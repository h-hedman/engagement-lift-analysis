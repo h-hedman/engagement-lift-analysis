{
 "cells": [
  {
   "cell_type": "code",
   "execution_count": null,
   "id": "472c3fdd-e950-41aa-8cec-9bb18f85ca0d",
   "metadata": {},
   "outputs": [],
   "source": [
    "\"\"\"\n",
    "Author: Hayden Hedman\n",
    "Date: August 2025\n",
    "\n",
    "Project: Engagement Lift Analysis\n",
    "Module: 01_data_simulation.ipynb\n",
    "\n",
    "Purpose:\n",
    "--------\n",
    "This script generates synthetic user-level engagement data to support quasi-experimental evaluation of a personalized recommendation engine. \n",
    "It simulates realistic product usage patterns over time, including intervention group assignment, baseline engagement levels, and time series behavior.\n",
    "\n",
    "Key Features:\n",
    "-------------\n",
    "- Simulates N users with randomized attributes and engagement baselines\n",
    "- Introduces a treatment effect based on assignment to a recommendation engine variant\n",
    "- Generates a longitudinal dataset of daily engagement over a configurable date range\n",
    "- Outputs include:\n",
    "    1. `users_df` – user-level attributes and group assignments\n",
    "    2. `timeseries_df` – daily engagement records per user\n",
    "\n",
    "Note:\n",
    "-----\n",
    "This data is synthetic and meant for demonstration purposes only. Files are saved locally (../data/) but excluded from version control via `.gitignore`.\n",
    "\"\"\""
   ]
  },
  {
   "cell_type": "code",
   "execution_count": 2,
   "id": "ef2b24c4-f700-4e8b-b261-9bb862b50d85",
   "metadata": {},
   "outputs": [
    {
     "name": "stdout",
     "output_type": "stream",
     "text": [
      "✅ Simulated data saved to ../data/raw/\n"
     ]
    }
   ],
   "source": [
    "# Load libraries\n",
    "import os\n",
    "import numpy as np\n",
    "import pandas as pd\n",
    "from datetime import timedelta\n",
    "import random"
   ]
  },
  {
   "cell_type": "code",
   "execution_count": null,
   "id": "892f4601-9800-49b1-8eb9-60f756dad281",
   "metadata": {},
   "outputs": [],
   "source": [
    "#------------------------------------------------------------------------------------------\n",
    "# Setup reproducible dataset\n",
    "#------------------------------------------------------------------------------------------\n",
    "# Set seed for reproducibility\n",
    "np.random.seed(64)\n",
    "random.seed(64)\n",
    "\n",
    "# Configuration\n",
    "NUM_USERS = 20000\n",
    "START_DATE = pd.to_datetime(\"2022-01-01\")\n",
    "END_DATE = pd.to_datetime(\"2022-12-31\")\n",
    "ROLL_OUT_DATE = pd.to_datetime(\"2022-06-01\")"
   ]
  },
  {
   "cell_type": "code",
   "execution_count": null,
   "id": "1d650223-b91f-44d7-878b-3b08219b9505",
   "metadata": {},
   "outputs": [],
   "source": [
    "#------------------------------------------------------------------------------------------\n",
    "# Output paths\n",
    "#------------------------------------------------------------------------------------------\n",
    "raw_data_dir = \"../data/raw\"\n",
    "os.makedirs(raw_data_dir, exist_ok=True)\n",
    "\n",
    "# Simulate User Metadata\n",
    "user_ids = np.arange(1, NUM_USERS + 1)\n",
    "signup_dates = np.random.choice(\n",
    "    pd.date_range(start=START_DATE, end=ROLL_OUT_DATE - timedelta(days=1)), \n",
    "    size=NUM_USERS\n",
    ")\n",
    "\n",
    "cohorts = np.where(signup_dates < pd.to_datetime(\"2022-03-01\"), \"early\", \"late\")\n",
    "segments = np.random.choice([\"casual\", \"binge\", \"loyal\"], size=NUM_USERS, p=[0.5, 0.3, 0.2])\n",
    "plan_types = np.random.choice([\"free\", \"premium\"], size=NUM_USERS, p=[0.7, 0.3])\n",
    "\n",
    "# Selection bias: assign treatment based on segment + random noise\n",
    "base_probs = np.where(segments == \"binge\", 0.7, 0.3)\n",
    "treatment_flags = np.random.binomial(1, base_probs)\n",
    "\n",
    "users_df = pd.DataFrame({\n",
    "    \"user_id\": user_ids,\n",
    "    \"signup_date\": signup_dates,\n",
    "    \"cohort\": cohorts,\n",
    "    \"segment\": segments,\n",
    "    \"plan_type\": plan_types,\n",
    "    \"new_rec_engine\": treatment_flags\n",
    "})"
   ]
  },
  {
   "cell_type": "code",
   "execution_count": 3,
   "id": "39441cc9-b990-40d4-96e6-674c0d60954b",
   "metadata": {},
   "outputs": [],
   "source": [
    "#------------------------------------------------------------------------------------------\n",
    "# Simulate Time Series Data\n",
    "#------------------------------------------------------------------------------------------\n",
    "records = []\n",
    "date_range = pd.date_range(start=START_DATE, end=END_DATE)\n",
    "\n",
    "for _, row in users_df.iterrows():\n",
    "    uid = row[\"user_id\"]\n",
    "    segment = row[\"segment\"]\n",
    "    signup = row[\"signup_date\"]\n",
    "    treated = row[\"new_rec_engine\"]\n",
    "    \n",
    "    for date in date_range:\n",
    "        if date < signup:\n",
    "            continue\n",
    "\n",
    "        base = {\n",
    "            \"casual\": 10,\n",
    "            \"binge\": 50,\n",
    "            \"loyal\": 30\n",
    "        }[segment]\n",
    "\n",
    "        # Inject *pre-treatment bias* (optional: keep or scale this as needed)\n",
    "        # e.g., group 1 starts higher than group 0\n",
    "        if treated and date < ROLL_OUT_DATE:\n",
    "            base += 3  # 3 extra baseline minutes\n",
    "\n",
    "\n",
    "        # Treatment effect after rollout\n",
    "        if treated and date >= ROLL_OUT_DATE:\n",
    "            base *= 1.15  # 15% lift\n",
    "        \n",
    "        # Add noise and temporal effects\n",
    "        day_engagement = np.random.normal(loc=base, scale=5)\n",
    "        if date.month in [11, 12]:\n",
    "            day_engagement *= 1.1  # holiday bump\n",
    "\n",
    "        records.append({\n",
    "            \"user_id\": uid,\n",
    "            \"date\": date,\n",
    "            \"minutes_engaged\": max(day_engagement, 0),\n",
    "            \"thumbs_up\": np.random.binomial(1, 0.1),\n",
    "            \"skips\": np.random.poisson(1.5),\n",
    "            \"genre_action\": np.random.poisson(1),\n",
    "            \"genre_romance\": np.random.poisson(1),\n",
    "            \"genre_comedy\": np.random.poisson(1)\n",
    "        })\n",
    "\n",
    "timeseries_df = pd.DataFrame(records)"
   ]
  },
  {
   "cell_type": "code",
   "execution_count": 4,
   "id": "8cae5b83-b049-4b90-9019-9bf28d279243",
   "metadata": {},
   "outputs": [
    {
     "name": "stdout",
     "output_type": "stream",
     "text": [
      "Confirmed raw data generated to ../data/raw/\n"
     ]
    }
   ],
   "source": [
    "#------------------------------------------------------------------------------------------\n",
    "# Save raw output data\n",
    "#------------------------------------------------------------------------------------------\n",
    "users_df.to_csv(f\"{raw_data_dir}/users.csv\", index=False)\n",
    "timeseries_df.to_csv(f\"{raw_data_dir}/user_timeseries.csv\", index=False)\n",
    "\n",
    "print(\"Confirmed raw data generated to ../data/raw/\")"
   ]
  }
 ],
 "metadata": {
  "kernelspec": {
   "display_name": "Python [conda env:base] *",
   "language": "python",
   "name": "conda-base-py"
  },
  "language_info": {
   "codemirror_mode": {
    "name": "ipython",
    "version": 3
   },
   "file_extension": ".py",
   "mimetype": "text/x-python",
   "name": "python",
   "nbconvert_exporter": "python",
   "pygments_lexer": "ipython3",
   "version": "3.12.3"
  }
 },
 "nbformat": 4,
 "nbformat_minor": 5
}
